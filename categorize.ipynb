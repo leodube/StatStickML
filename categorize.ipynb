{
 "cells": [
  {
   "cell_type": "code",
   "execution_count": 19,
   "metadata": {},
   "outputs": [],
   "source": [
    "# Import Libraries\n",
    "import numpy as np\n",
    "import pandas as pd\n",
    "import matplotlib.pyplot as plt\n",
    "from matplotlib.pyplot import figure\n",
    "from scipy.spatial.distance import euclidean\n",
    "from fastdtw import fastdtw\n",
    "from skfuzzy import cluster"
   ]
  },
  {
   "cell_type": "code",
   "execution_count": 3,
   "metadata": {},
   "outputs": [],
   "source": [
    "# Global Variables\n",
    "plt.rcParams['figure.figsize'] = [15, 5]\n",
    "\n",
    "dfSlap = pd.DataFrame()\n",
    "dfWrist = pd.DataFrame()\n",
    "dfHandling = pd.DataFrame()\n",
    "dfBench = pd.DataFrame()\n",
    "\n",
    "slap_dtw_dists = []   # 3D array holding (x, y, z) data for each sensor\n",
    "wrist_dtw_dists = []\n",
    "handling_dtw_dists = []\n",
    "bench_dtw_dists = []\n",
    "\n",
    "acc_ctr = {}          # dictionaries holding DTW distance cluster centers\n",
    "mag_ctr = {}          # ADDED\n",
    "gyro_ctr = {}\n",
    "\n",
    "action_types = ['slap', 'wrist', 'stick_handling', 'bench']  # used in getting test data\n",
    "act_i = 0\n",
    "action_num = 1\n",
    "\n",
    "actions_dtw = {}\n",
    "\n",
    "predictions = []"
   ]
  },
  {
   "cell_type": "code",
   "execution_count": 4,
   "metadata": {},
   "outputs": [],
   "source": [
    "# Import csv\n",
    "def import_csv(fn):\n",
    "    data = pd.read_csv(fn)\n",
    "    data.columns = ['time', 'action_type_id', 'action_test_num', 'action_time', 'acc_x', 'acc_y', 'acc_z', 'mag_x', 'mag_y', 'mag_z', 'gyro_x', 'gyro_y', 'gyro_z']\n",
    "    data.set_index('time')\n",
    "    return data"
   ]
  },
  {
   "cell_type": "code",
   "execution_count": 5,
   "metadata": {},
   "outputs": [],
   "source": [
    "# Import training data\n",
    "def import_training_data():\n",
    "    global dfSlap, dfWrist, dfHandling, dfBench\n",
    "    dfSlap = import_csv(\"training/slap_data.csv\")\n",
    "    dfWrist = import_csv(\"training/wrist_data.csv\")\n",
    "    dfHandling = import_csv(\"training/stick_handling_data.csv\")\n",
    "    dfBench = import_csv(\"training/bench_data.csv\")"
   ]
  },
  {
   "cell_type": "code",
   "execution_count": 6,
   "metadata": {},
   "outputs": [],
   "source": [
    "# Import DTW Distances\n",
    "def import_dtw_distances():\n",
    "    global slap_dtw_dists, wrist_dtw_dists, handling_dtw_dists, bench_dtw_dists\n",
    "    slap_dtw_dists = [pd.read_csv('dtw/slap_accd.csv').values.tolist()]\n",
    "    slap_dtw_dists.append(pd.read_csv('dtw/slap_magd.csv').values.tolist())\n",
    "    slap_dtw_dists.append(pd.read_csv('dtw/slap_gyrod.csv').values.tolist())\n",
    "    wrist_dtw_dists = [pd.read_csv('dtw/wrist_accd.csv').values.tolist()]\n",
    "    wrist_dtw_dists.append(pd.read_csv('dtw/wrist_magd.csv').values.tolist())\n",
    "    wrist_dtw_dists.append(pd.read_csv('dtw/wrist_gyrod.csv').values.tolist())\n",
    "    handling_dtw_dists = [pd.read_csv('dtw/handling_accd.csv').values.tolist()]\n",
    "    handling_dtw_dists.append(pd.read_csv('dtw/handling_magd.csv').values.tolist())\n",
    "    handling_dtw_dists.append(pd.read_csv('dtw/handling_gyrod.csv').values.tolist())\n",
    "    bench_dtw_dists = [pd.read_csv('dtw/bench_accd.csv').values.tolist()]\n",
    "    bench_dtw_dists.append(pd.read_csv('dtw/bench_magd.csv').values.tolist())\n",
    "    bench_dtw_dists.append(pd.read_csv('dtw/bench_gyrod.csv').values.tolist())"
   ]
  },
  {
   "cell_type": "code",
   "execution_count": null,
   "metadata": {},
   "outputs": [],
   "source": [
    "# Calculate Dynamic Time Warping distances\n",
    "def calc_dtw(df, sensor):\n",
    "    y1 = sensor + '_x'\n",
    "    y2 = sensor + '_y'\n",
    "    y3 = sensor + '_z'\n",
    "    dists = []\n",
    "    x_dists = []\n",
    "    y_dists = []\n",
    "    z_dists = []\n",
    "    \n",
    "    for j in range(1,101):\n",
    "        d1 = df.loc[data['action_test_num'] == j]\n",
    "        for i in [x for x in range(j,101) if x != j]:\n",
    "            try:\n",
    "                d2 = df.loc[data['action_test_num'] == i]\n",
    "                dx, px = fastdtw(d1[['action_time',y1]], d2[['action_time', y1]], dist=euclidean)\n",
    "                dy, py = fastdtw(d1[['action_time',y2]], d2[['action_time', y2]], dist=euclidean)\n",
    "                dz, pz = fastdtw(d1[['action_time',y3]], d2[['action_time', y3]], dist=euclidean)\n",
    "            except:\n",
    "                # print(i)\n",
    "                pass\n",
    "\n",
    "            x_dists.append(dx)\n",
    "            y_dists.append(dy)\n",
    "            z_dists.append(dz)\n",
    "\n",
    "\n",
    "    dists.append(x_dists)\n",
    "    dists.append(y_dists)\n",
    "    dists.append(z_dists)\n",
    "    return dists"
   ]
  },
  {
   "cell_type": "code",
   "execution_count": 7,
   "metadata": {},
   "outputs": [],
   "source": [
    "# Find centers of DTW distance clusters (don't care about mag)\n",
    "def find_cluster_centers():\n",
    "    global slap_dtw_dists, wrist_dtw_dists, handling_dtw_dists, bench_dtw_dists, acc_ctr, gyro_ctr\n",
    "    acc_ctr['slap']     = [[np.average(slap_dtw_dists[0][0])], [np.average(slap_dtw_dists[0][1])], [np.average(slap_dtw_dists[0][2])]]\n",
    "    acc_ctr['wrist']    = [[np.average(wrist_dtw_dists[0][0])], [np.average(wrist_dtw_dists[0][1])], [np.average(wrist_dtw_dists[0][2])]]\n",
    "    acc_ctr['handling'] = [[np.average(handling_dtw_dists[0][0])], [np.average(handling_dtw_dists[0][1])], [np.average(handling_dtw_dists[0][2])]]\n",
    "    acc_ctr['bench']    = [[np.average(bench_dtw_dists[0][0])], [np.average(bench_dtw_dists[0][1])], [np.average(bench_dtw_dists[0][2])]]\n",
    "    # ADDED:\n",
    "    mag_ctr['slap']     = [[np.average(slap_dtw_dists[1][0])], [np.average(slap_dtw_dists[1][1])], [np.average(slap_dtw_dists[1][2])]]\n",
    "    mag_ctr['wrist']    = [[np.average(wrist_dtw_dists[1][0])], [np.average(wrist_dtw_dists[1][1])], [np.average(wrist_dtw_dists[1][2])]]\n",
    "    mag_ctr['handling'] = [[np.average(handling_dtw_dists[1][0])], [np.average(handling_dtw_dists[1][1])], [np.average(handling_dtw_dists[1][2])]]\n",
    "    mag_ctr['bench']    = [[np.average(bench_dtw_dists[1][0])], [np.average(bench_dtw_dists[1][1])], [np.average(bench_dtw_dists[1][2])]]\n",
    "    # END ADDED\n",
    "    gyro_ctr['slap']    = [[np.average(slap_dtw_dists[2][0])], [np.average(slap_dtw_dists[2][1])], [np.average(slap_dtw_dists[2][2])]]\n",
    "    gyro_ctr['wrist']   = [[np.average(wrist_dtw_dists[2][0])], [np.average(wrist_dtw_dists[2][1])], [np.average(wrist_dtw_dists[2][2])]]\n",
    "    gyro_ctr['handling']= [[np.average(handling_dtw_dists[2][0])], [np.average(handling_dtw_dists[2][1])], [np.average(handling_dtw_dists[2][2])]]\n",
    "    gyro_ctr['bench']   = [[np.average(bench_dtw_dists[2][0])], [np.average(bench_dtw_dists[2][1])], [np.average(bench_dtw_dists[2][2])]]"
   ]
  },
  {
   "cell_type": "code",
   "execution_count": 8,
   "metadata": {},
   "outputs": [],
   "source": [
    "# Get new data from the sensor\n",
    "# TODO: Will need to change to get NEW data from the sql database\n",
    "# See: pandas.read_sql_table docs\n",
    "def get_new_data():\n",
    "    global action_types, act_i, action_num\n",
    "    df = pd.read_csv('training/'+action_types[act_i]+'_data.csv')\n",
    "    df.columns = ['time', 'action_type_id', 'action_test_num', 'action_time', 'acc_x', 'acc_y', 'acc_z', 'mag_x', 'mag_y', 'mag_z', 'gyro_x', 'gyro_y', 'gyro_z']\n",
    "    df.set_index('time')\n",
    "    dfAction = df.loc[df['action_test_num'] == action_num]\n",
    "    return dfAction"
   ]
  },
  {
   "cell_type": "code",
   "execution_count": 9,
   "metadata": {},
   "outputs": [],
   "source": [
    "# Finds the DTW dist from a single sensor\n",
    "def sensor_dtw_dists(df1, df2, sensor):\n",
    "    y1 = sensor + '_x'\n",
    "    y2 = sensor + '_y'\n",
    "    y3 = sensor + '_z'\n",
    "    dists = []\n",
    "    x_dists = []\n",
    "    y_dists = []\n",
    "    z_dists = []\n",
    "    \n",
    "    # for i in [x for x in range(1,101)]:\n",
    "    d2 = df2.loc[df2['action_test_num'] == 1]\n",
    "    dx, px = fastdtw(df1[['action_time',y1]], d2[['action_time', y1]], dist=euclidean)\n",
    "    dy, py = fastdtw(df1[['action_time',y2]], d2[['action_time', y2]], dist=euclidean)\n",
    "    dz, pz = fastdtw(df1[['action_time',y3]], d2[['action_time', y3]], dist=euclidean)\n",
    "\n",
    "    x_dists.append(dx)\n",
    "    y_dists.append(dy)\n",
    "    z_dists.append(dz)\n",
    "    \n",
    "    dists.append(x_dists)\n",
    "    dists.append(y_dists)\n",
    "    dists.append(z_dists)\n",
    "    return dists"
   ]
  },
  {
   "cell_type": "code",
   "execution_count": 10,
   "metadata": {},
   "outputs": [],
   "source": [
    "# Finds the DTW dist from a single group of action training data\n",
    "def action_dtw_dists(df1, df2):\n",
    "    sensors_dtw = {}\n",
    "    sensors_dtw['acc'] = sensor_dtw_dists(df1, df2, 'acc')\n",
    "    sensors_dtw['mag'] = sensor_dtw_dists(df1, df2, 'mag')\n",
    "    sensors_dtw['gyro'] = sensor_dtw_dists(df1, df2, 'gyro')\n",
    "    return sensors_dtw"
   ]
  },
  {
   "cell_type": "code",
   "execution_count": 11,
   "metadata": {},
   "outputs": [],
   "source": [
    "# Finds the DTW dists for each type of action\n",
    "def find_dtw_dists(df):\n",
    "    global actions_dtw\n",
    "    actions_dtw['slap'] = action_dtw_dists(df, dfSlap)\n",
    "    actions_dtw['wrist'] = action_dtw_dists(df, dfWrist)\n",
    "    actions_dtw['handling'] = action_dtw_dists(df, dfHandling)\n",
    "    actions_dtw['bench'] = action_dtw_dists(df, dfBench)"
   ]
  },
  {
   "cell_type": "code",
   "execution_count": 12,
   "metadata": {},
   "outputs": [],
   "source": [
    "# Use fuzzy c-means prediction to find cluster membership probabilities\n",
    "def predict_action():\n",
    "    # Acc\n",
    "    new_data = np.hstack((np.array(actions_dtw['slap']['acc']), np.array(actions_dtw['wrist']['acc']), np.array(actions_dtw['handling']['acc']), np.array(actions_dtw['bench']['acc'])))\n",
    "    ctr = np.vstack((np.array(acc_ctr['slap']).T, np.array(acc_ctr['wrist']).T, np.array(acc_ctr['handling']).T, np.array(acc_ctr['bench']).T))\n",
    "    ua, uoa, da, _, _, _ = cluster.cmeans_predict(new_data, ctr, 2, error=0.05, maxiter=1000)\n",
    "    \n",
    "    # Mag\n",
    "    new_data = np.hstack((np.array(actions_dtw['slap']['mag']), np.array(actions_dtw['wrist']['mag']), np.array(actions_dtw['handling']['mag']), np.array(actions_dtw['bench']['mag'])))\n",
    "    ctr = np.vstack((np.array(mag_ctr['slap']).T, np.array(mag_ctr['wrist']).T, np.array(mag_ctr['handling']).T, np.array(mag_ctr['bench']).T))\n",
    "    um, uom, dm, _, _, _ = cluster.cmeans_predict(new_data, ctr, 2, error=0.05, maxiter=1000)\n",
    "    \n",
    "    # Gyro\n",
    "    new_data = np.hstack((np.array(actions_dtw['slap']['gyro']), np.array(actions_dtw['wrist']['gyro']), np.array(actions_dtw['handling']['gyro']), np.array(actions_dtw['bench']['gyro'])))\n",
    "    ctr = np.vstack((np.array(gyro_ctr['slap']).T, np.array(gyro_ctr['wrist']).T, np.array(gyro_ctr['handling']).T, np.array(gyro_ctr['bench']).T))\n",
    "    ug, uog, dg, _, _, _ = cluster.cmeans_predict(new_data, ctr, 2, error=0.05, maxiter=1000)\n",
    "    \n",
    "    cma = np.argmax(ua, axis=0) # cluster membership\n",
    "    cmg = np.argmax(ug, axis=0)\n",
    "    \n",
    "    # Predict\n",
    "    temp = np.add(ua, um)\n",
    "    u = np.add(temp, ug)\n",
    "    \n",
    "    cm = np.argmax(u)\n",
    "    p = cm % 4\n",
    "\n",
    "    return p, ua, um, ug, u, cm"
   ]
  },
  {
   "cell_type": "code",
   "execution_count": 13,
   "metadata": {},
   "outputs": [],
   "source": [
    "# Posts action results to a database\n",
    "def post_action(p):\n",
    "    if p != -1:\n",
    "        print('Shot: ' + action_types[act_i] + ' #' + str(action_num) + '   Predict: ' + action_types[p])\n",
    "    else:\n",
    "        print('Shot: ' + action_types[act_i] + ' #' + str(action_num) + '   Predict: ' + 'Unable to predict')\n",
    "    return"
   ]
  },
  {
   "cell_type": "code",
   "execution_count": 14,
   "metadata": {
    "scrolled": false
   },
   "outputs": [
    {
     "name": "stdout",
     "output_type": "stream",
     "text": [
      "Shot: wrist #5   Predict: wrist\n"
     ]
    }
   ],
   "source": [
    "# Main Code\n",
    "# Setup\n",
    "import_training_data()\n",
    "import_dtw_distances()\n",
    "find_cluster_centers()\n",
    "\n",
    "# Loop\n",
    "# for i in range(4):\n",
    "#     for j in range(1, 101):\n",
    "#         act_i = i\n",
    "#         action_num = j\n",
    "#         dfAction = get_new_data()\n",
    "#         find_dtw_dists(dfAction)\n",
    "#         p, ua, um, ug, u, cm = predict_action()\n",
    "#         post_action(p)\n",
    "\n",
    "act_i = 1\n",
    "action_num = 5\n",
    "dfAction = get_new_data()\n",
    "find_dtw_dists(dfAction)\n",
    "p, ua, um, ug, u, cm = predict_action()\n",
    "post_action(p)"
   ]
  }
 ],
 "metadata": {
  "kernelspec": {
   "display_name": "Python 3",
   "language": "python",
   "name": "python3"
  },
  "language_info": {
   "codemirror_mode": {
    "name": "ipython",
    "version": 3
   },
   "file_extension": ".py",
   "mimetype": "text/x-python",
   "name": "python",
   "nbconvert_exporter": "python",
   "pygments_lexer": "ipython3",
   "version": "3.9.0"
  }
 },
 "nbformat": 4,
 "nbformat_minor": 2
}
